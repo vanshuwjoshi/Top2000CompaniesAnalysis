{
 "cells": [
  {
   "cell_type": "markdown",
   "id": "00f9d5b7",
   "metadata": {},
   "source": [
    "In this project the dataset includes top 1924 companies globally based on sales, profits, assets, market value as of 2020. \n",
    "\n",
    "Aim of this project:\n",
    "- To find top companies based on sales, profits, assets and market value and finding patterns \n",
    "- Does region (country or continent) of the company have impact on the rank and other values"
   ]
  },
  {
   "cell_type": "code",
   "execution_count": 1,
   "id": "a0c57fb3",
   "metadata": {},
   "outputs": [],
   "source": [
    "import pandas as pd"
   ]
  },
  {
   "cell_type": "code",
   "execution_count": 2,
   "id": "e093a511",
   "metadata": {},
   "outputs": [],
   "source": [
    "import matplotlib.pyplot as plt\n",
    "import seaborn as sns"
   ]
  },
  {
   "cell_type": "code",
   "execution_count": 3,
   "id": "0b1d8104",
   "metadata": {},
   "outputs": [],
   "source": [
    "from tabulate import tabulate"
   ]
  },
  {
   "cell_type": "code",
   "execution_count": 4,
   "id": "cb9dea91",
   "metadata": {},
   "outputs": [
    {
     "data": {
      "text/html": [
       "<div>\n",
       "<style scoped>\n",
       "    .dataframe tbody tr th:only-of-type {\n",
       "        vertical-align: middle;\n",
       "    }\n",
       "\n",
       "    .dataframe tbody tr th {\n",
       "        vertical-align: top;\n",
       "    }\n",
       "\n",
       "    .dataframe thead th {\n",
       "        text-align: right;\n",
       "    }\n",
       "</style>\n",
       "<table border=\"1\" class=\"dataframe\">\n",
       "  <thead>\n",
       "    <tr style=\"text-align: right;\">\n",
       "      <th></th>\n",
       "      <th>Global Rank</th>\n",
       "      <th>Company</th>\n",
       "      <th>Sales ($billion)</th>\n",
       "      <th>Profits ($billion)</th>\n",
       "      <th>Assets ($billion)</th>\n",
       "      <th>Market Value ($billion)</th>\n",
       "      <th>Country</th>\n",
       "      <th>Continent</th>\n",
       "      <th>Latitude</th>\n",
       "      <th>Longitude</th>\n",
       "    </tr>\n",
       "  </thead>\n",
       "  <tbody>\n",
       "    <tr>\n",
       "      <th>0</th>\n",
       "      <td>1</td>\n",
       "      <td>ICBC</td>\n",
       "      <td>134.8</td>\n",
       "      <td>37.8</td>\n",
       "      <td>2813.5</td>\n",
       "      <td>237.3</td>\n",
       "      <td>China</td>\n",
       "      <td>Asia</td>\n",
       "      <td>35.86166</td>\n",
       "      <td>104.195397</td>\n",
       "    </tr>\n",
       "    <tr>\n",
       "      <th>1</th>\n",
       "      <td>2</td>\n",
       "      <td>China Construction Bank</td>\n",
       "      <td>113.1</td>\n",
       "      <td>30.6</td>\n",
       "      <td>2241.0</td>\n",
       "      <td>202.0</td>\n",
       "      <td>China</td>\n",
       "      <td>Asia</td>\n",
       "      <td>35.86166</td>\n",
       "      <td>104.195397</td>\n",
       "    </tr>\n",
       "    <tr>\n",
       "      <th>2</th>\n",
       "      <td>3</td>\n",
       "      <td>JPMorgan Chase</td>\n",
       "      <td>108.2</td>\n",
       "      <td>21.3</td>\n",
       "      <td>2359.1</td>\n",
       "      <td>191.4</td>\n",
       "      <td>USA</td>\n",
       "      <td>North America</td>\n",
       "      <td>37.09024</td>\n",
       "      <td>-95.712891</td>\n",
       "    </tr>\n",
       "    <tr>\n",
       "      <th>3</th>\n",
       "      <td>4</td>\n",
       "      <td>General Electric</td>\n",
       "      <td>147.4</td>\n",
       "      <td>13.6</td>\n",
       "      <td>685.3</td>\n",
       "      <td>243.7</td>\n",
       "      <td>USA</td>\n",
       "      <td>North America</td>\n",
       "      <td>37.09024</td>\n",
       "      <td>-95.712891</td>\n",
       "    </tr>\n",
       "    <tr>\n",
       "      <th>4</th>\n",
       "      <td>5</td>\n",
       "      <td>Exxon Mobil</td>\n",
       "      <td>420.7</td>\n",
       "      <td>44.9</td>\n",
       "      <td>333.8</td>\n",
       "      <td>400.4</td>\n",
       "      <td>USA</td>\n",
       "      <td>North America</td>\n",
       "      <td>37.09024</td>\n",
       "      <td>-95.712891</td>\n",
       "    </tr>\n",
       "  </tbody>\n",
       "</table>\n",
       "</div>"
      ],
      "text/plain": [
       "   Global Rank                  Company  Sales ($billion)  Profits ($billion)  \\\n",
       "0            1                     ICBC             134.8                37.8   \n",
       "1            2  China Construction Bank             113.1                30.6   \n",
       "2            3           JPMorgan Chase             108.2                21.3   \n",
       "3            4         General Electric             147.4                13.6   \n",
       "4            5              Exxon Mobil             420.7                44.9   \n",
       "\n",
       "   Assets ($billion)  Market Value ($billion) Country      Continent  \\\n",
       "0             2813.5                    237.3   China           Asia   \n",
       "1             2241.0                    202.0   China           Asia   \n",
       "2             2359.1                    191.4     USA  North America   \n",
       "3              685.3                    243.7     USA  North America   \n",
       "4              333.8                    400.4     USA  North America   \n",
       "\n",
       "   Latitude   Longitude  \n",
       "0  35.86166  104.195397  \n",
       "1  35.86166  104.195397  \n",
       "2  37.09024  -95.712891  \n",
       "3  37.09024  -95.712891  \n",
       "4  37.09024  -95.712891  "
      ]
     },
     "execution_count": 4,
     "metadata": {},
     "output_type": "execute_result"
    }
   ],
   "source": [
    "data = pd.read_csv('Top2000CompaniesGlobally.csv')\n",
    "data.head()"
   ]
  },
  {
   "cell_type": "code",
   "execution_count": 5,
   "id": "06146d55",
   "metadata": {},
   "outputs": [
    {
     "data": {
      "text/html": [
       "<div>\n",
       "<style scoped>\n",
       "    .dataframe tbody tr th:only-of-type {\n",
       "        vertical-align: middle;\n",
       "    }\n",
       "\n",
       "    .dataframe tbody tr th {\n",
       "        vertical-align: top;\n",
       "    }\n",
       "\n",
       "    .dataframe thead th {\n",
       "        text-align: right;\n",
       "    }\n",
       "</style>\n",
       "<table border=\"1\" class=\"dataframe\">\n",
       "  <thead>\n",
       "    <tr style=\"text-align: right;\">\n",
       "      <th></th>\n",
       "      <th>Company</th>\n",
       "      <th>Sales ($billion)</th>\n",
       "      <th>Profits ($billion)</th>\n",
       "      <th>Assets ($billion)</th>\n",
       "      <th>Market Value ($billion)</th>\n",
       "      <th>Country</th>\n",
       "      <th>Continent</th>\n",
       "    </tr>\n",
       "  </thead>\n",
       "  <tbody>\n",
       "    <tr>\n",
       "      <th>0</th>\n",
       "      <td>ICBC</td>\n",
       "      <td>134.8</td>\n",
       "      <td>37.8</td>\n",
       "      <td>2813.5</td>\n",
       "      <td>237.3</td>\n",
       "      <td>China</td>\n",
       "      <td>Asia</td>\n",
       "    </tr>\n",
       "    <tr>\n",
       "      <th>1</th>\n",
       "      <td>China Construction Bank</td>\n",
       "      <td>113.1</td>\n",
       "      <td>30.6</td>\n",
       "      <td>2241.0</td>\n",
       "      <td>202.0</td>\n",
       "      <td>China</td>\n",
       "      <td>Asia</td>\n",
       "    </tr>\n",
       "    <tr>\n",
       "      <th>2</th>\n",
       "      <td>JPMorgan Chase</td>\n",
       "      <td>108.2</td>\n",
       "      <td>21.3</td>\n",
       "      <td>2359.1</td>\n",
       "      <td>191.4</td>\n",
       "      <td>USA</td>\n",
       "      <td>North America</td>\n",
       "    </tr>\n",
       "    <tr>\n",
       "      <th>3</th>\n",
       "      <td>General Electric</td>\n",
       "      <td>147.4</td>\n",
       "      <td>13.6</td>\n",
       "      <td>685.3</td>\n",
       "      <td>243.7</td>\n",
       "      <td>USA</td>\n",
       "      <td>North America</td>\n",
       "    </tr>\n",
       "    <tr>\n",
       "      <th>4</th>\n",
       "      <td>Exxon Mobil</td>\n",
       "      <td>420.7</td>\n",
       "      <td>44.9</td>\n",
       "      <td>333.8</td>\n",
       "      <td>400.4</td>\n",
       "      <td>USA</td>\n",
       "      <td>North America</td>\n",
       "    </tr>\n",
       "  </tbody>\n",
       "</table>\n",
       "</div>"
      ],
      "text/plain": [
       "                   Company  Sales ($billion)  Profits ($billion)  \\\n",
       "0                     ICBC             134.8                37.8   \n",
       "1  China Construction Bank             113.1                30.6   \n",
       "2           JPMorgan Chase             108.2                21.3   \n",
       "3         General Electric             147.4                13.6   \n",
       "4              Exxon Mobil             420.7                44.9   \n",
       "\n",
       "   Assets ($billion)  Market Value ($billion) Country      Continent  \n",
       "0             2813.5                    237.3   China           Asia  \n",
       "1             2241.0                    202.0   China           Asia  \n",
       "2             2359.1                    191.4     USA  North America  \n",
       "3              685.3                    243.7     USA  North America  \n",
       "4              333.8                    400.4     USA  North America  "
      ]
     },
     "execution_count": 5,
     "metadata": {},
     "output_type": "execute_result"
    }
   ],
   "source": [
    "data = data.drop(columns=[\"Global Rank\",\"Latitude\", \"Longitude\"])\n",
    "data.head()"
   ]
  },
  {
   "cell_type": "code",
   "execution_count": 6,
   "id": "4ecd698a",
   "metadata": {},
   "outputs": [
    {
     "data": {
      "text/plain": [
       "1924"
      ]
     },
     "execution_count": 6,
     "metadata": {},
     "output_type": "execute_result"
    }
   ],
   "source": [
    "len(data.index)"
   ]
  },
  {
   "cell_type": "code",
   "execution_count": 7,
   "id": "7a0dcb6a",
   "metadata": {},
   "outputs": [
    {
     "data": {
      "text/html": [
       "<div>\n",
       "<style scoped>\n",
       "    .dataframe tbody tr th:only-of-type {\n",
       "        vertical-align: middle;\n",
       "    }\n",
       "\n",
       "    .dataframe tbody tr th {\n",
       "        vertical-align: top;\n",
       "    }\n",
       "\n",
       "    .dataframe thead th {\n",
       "        text-align: right;\n",
       "    }\n",
       "</style>\n",
       "<table border=\"1\" class=\"dataframe\">\n",
       "  <thead>\n",
       "    <tr style=\"text-align: right;\">\n",
       "      <th></th>\n",
       "      <th>Company</th>\n",
       "      <th>Sales ($billion)</th>\n",
       "      <th>Profits ($billion)</th>\n",
       "      <th>Assets ($billion)</th>\n",
       "      <th>Market Value ($billion)</th>\n",
       "      <th>Country</th>\n",
       "      <th>Continent</th>\n",
       "    </tr>\n",
       "  </thead>\n",
       "  <tbody>\n",
       "    <tr>\n",
       "      <th>1919</th>\n",
       "      <td>Tractor Supply</td>\n",
       "      <td>4.7</td>\n",
       "      <td>0.3</td>\n",
       "      <td>1.7</td>\n",
       "      <td>7.1</td>\n",
       "      <td>USA</td>\n",
       "      <td>North America</td>\n",
       "    </tr>\n",
       "    <tr>\n",
       "      <th>1920</th>\n",
       "      <td>San-Ai Oil</td>\n",
       "      <td>0.5</td>\n",
       "      <td>0.1</td>\n",
       "      <td>25.7</td>\n",
       "      <td>0.5</td>\n",
       "      <td>Japan</td>\n",
       "      <td>Asia</td>\n",
       "    </tr>\n",
       "    <tr>\n",
       "      <th>1921</th>\n",
       "      <td>UOL Group</td>\n",
       "      <td>0.9</td>\n",
       "      <td>0.7</td>\n",
       "      <td>7.8</td>\n",
       "      <td>4.2</td>\n",
       "      <td>Singapore</td>\n",
       "      <td>Asia</td>\n",
       "    </tr>\n",
       "    <tr>\n",
       "      <th>1922</th>\n",
       "      <td>Interconexion Electrica</td>\n",
       "      <td>2.4</td>\n",
       "      <td>0.2</td>\n",
       "      <td>14.6</td>\n",
       "      <td>5.8</td>\n",
       "      <td>Colombia</td>\n",
       "      <td>South America</td>\n",
       "    </tr>\n",
       "    <tr>\n",
       "      <th>1923</th>\n",
       "      <td>Old Republic International</td>\n",
       "      <td>5.0</td>\n",
       "      <td>-0.1</td>\n",
       "      <td>16.2</td>\n",
       "      <td>3.3</td>\n",
       "      <td>USA</td>\n",
       "      <td>North America</td>\n",
       "    </tr>\n",
       "  </tbody>\n",
       "</table>\n",
       "</div>"
      ],
      "text/plain": [
       "                         Company  Sales ($billion)  Profits ($billion)  \\\n",
       "1919              Tractor Supply               4.7                 0.3   \n",
       "1920                  San-Ai Oil               0.5                 0.1   \n",
       "1921                   UOL Group               0.9                 0.7   \n",
       "1922     Interconexion Electrica               2.4                 0.2   \n",
       "1923  Old Republic International               5.0                -0.1   \n",
       "\n",
       "      Assets ($billion)  Market Value ($billion)    Country      Continent  \n",
       "1919                1.7                      7.1        USA  North America  \n",
       "1920               25.7                      0.5      Japan           Asia  \n",
       "1921                7.8                      4.2  Singapore           Asia  \n",
       "1922               14.6                      5.8   Colombia  South America  \n",
       "1923               16.2                      3.3        USA  North America  "
      ]
     },
     "execution_count": 7,
     "metadata": {},
     "output_type": "execute_result"
    }
   ],
   "source": [
    "data.tail()"
   ]
  },
  {
   "cell_type": "markdown",
   "id": "f77d61cf",
   "metadata": {},
   "source": [
    "#### Distribution of companies based on continents"
   ]
  },
  {
   "cell_type": "code",
   "execution_count": 8,
   "id": "5e39d9ea",
   "metadata": {},
   "outputs": [
    {
     "data": {
      "text/plain": [
       "<seaborn.axisgrid.FacetGrid at 0x1848d108fa0>"
      ]
     },
     "execution_count": 8,
     "metadata": {},
     "output_type": "execute_result"
    },
    {
     "data": {
      "image/png": "[encoded data removed]",
      "text/plain": [
       "<Figure size 432x432 with 1 Axes>"
      ]
     },
     "metadata": {
      "needs_background": "light"
     },
     "output_type": "display_data"
    }
   ],
   "source": [
    "plot = sns.catplot(data=data,x=\"Continent\",kind=\"count\", palette=\"colorblind\", height=6)\n",
    "plot.set(xlabel =\"Continent\", ylabel = \"Count\", title =\"Number of companies in top 2000 based on Continent\")"
   ]
  },
  {
   "cell_type": "code",
   "execution_count": 9,
   "id": "5c045626",
   "metadata": {
    "scrolled": false
   },
   "outputs": [
    {
     "data": {
      "text/plain": [
       "Asia             37.370062\n",
       "North America    32.692308\n",
       "Europe           23.856549\n",
       "South America     2.546778\n",
       "Oceania           2.234927\n",
       "Africa            1.299376\n",
       "Name: Continent, dtype: float64"
      ]
     },
     "execution_count": 9,
     "metadata": {},
     "output_type": "execute_result"
    }
   ],
   "source": [
    "(data[\"Continent\"].value_counts()/len(data))*100"
   ]
  },
  {
   "cell_type": "markdown",
   "id": "71d7600c",
   "metadata": {},
   "source": [
    "Inferences:\n",
    "- Asia has the highest number of companies (37%) in the top 2000 \n",
    "- North America follows Asia with around 33% of companies in the list\n",
    "- Africa has the least number of companies in the top 2000 "
   ]
  },
  {
   "cell_type": "code",
   "execution_count": 10,
   "id": "58627b9e",
   "metadata": {},
   "outputs": [
    {
     "data": {
      "text/plain": [
       "Continent      Country             \n",
       "Africa         Egypt                    0.103950\n",
       "               Liberia                  0.051975\n",
       "               Morocco                  0.103950\n",
       "               Nigeria                  0.051975\n",
       "               South Africa             0.987526\n",
       "Asia           China                    7.016632\n",
       "               Hong Kong                2.390852\n",
       "               India                    2.910603\n",
       "               Indonesia                0.467775\n",
       "               Israel                   0.519751\n",
       "               Japan                   12.785863\n",
       "               Jordan                   0.051975\n",
       "               Kuwait                   0.207900\n",
       "               Lebanon                  0.103950\n",
       "               Malaysia                 1.039501\n",
       "               Oman                     0.051975\n",
       "               Pakistan                 0.051975\n",
       "               Philippines              0.415800\n",
       "               Qatar                    0.415800\n",
       "               Saudi Arabia             0.883576\n",
       "               Singapore                1.039501\n",
       "               South Korea              3.326403\n",
       "               Taiwan                   2.079002\n",
       "               Thailand                 0.831601\n",
       "               United Arab Emirates     0.727651\n",
       "               Vietnam                  0.051975\n",
       "Europe         Belgium                  0.571726\n",
       "               Channel Islands          0.051975\n",
       "               Czech Republic           0.051975\n",
       "               Denmark                  0.519751\n",
       "               Finland                  0.623701\n",
       "               France                   3.326403\n",
       "               Germany                  2.598753\n",
       "               Greece                   0.519751\n",
       "               Hungary                  0.103950\n",
       "               Ireland                  0.883576\n",
       "               Italy                    1.507277\n",
       "               Kazakhstan               0.103950\n",
       "               Luxembourg               0.363825\n",
       "               Norway                   0.519751\n",
       "               Poland                   0.415800\n",
       "               Portugal                 0.311850\n",
       "               Russia                   1.559252\n",
       "               Spain                    1.455301\n",
       "               Sweden                   1.351351\n",
       "               The Netherlands          1.247401\n",
       "               Turkey                   0.727651\n",
       "               UK                       5.041580\n",
       "North America  Bermuda                  0.467775\n",
       "               Canada                   3.378378\n",
       "               Mexico                   0.987526\n",
       "               Panama                   0.051975\n",
       "               USA                     27.806653\n",
       "Oceania        Australia                2.182952\n",
       "               New Zealand              0.051975\n",
       "South America  Brazil                   1.611227\n",
       "               Chile                    0.467775\n",
       "               Colombia                 0.311850\n",
       "               Peru                     0.103950\n",
       "               Venezuela                0.051975\n",
       "dtype: float64"
      ]
     },
     "execution_count": 10,
     "metadata": {},
     "output_type": "execute_result"
    }
   ],
   "source": [
    "(data[[\"Continent\",\"Country\"]].groupby([\"Continent\",\"Country\"]).size()/len(data))*100"
   ]
  },
  {
   "cell_type": "markdown",
   "id": "97ead340",
   "metadata": {},
   "source": [
    "Inferences:\n",
    "- The USA has highest number of companies in the list with approximately 28% \n",
    "- They are followed by Japan with 13% and then China with 7%\n",
    "- Asia and Europe have most countries listed\n",
    "- For each continent:\n",
    "    - Africa - South Africa (1%)\n",
    "    - Asia - Japan (13%)\n",
    "    - Europe - UK (5%)\n",
    "    - North America - USA (27%)\n",
    "    - Oceania - Australia (2%)\n",
    "    - South America - Brazil (1.6%)"
   ]
  },
  {
   "cell_type": "markdown",
   "id": "6344ebe1",
   "metadata": {},
   "source": [
    "#### Top 10 companies based on Market Value ($billion)"
   ]
  },
  {
   "cell_type": "code",
   "execution_count": 11,
   "id": "549e697b",
   "metadata": {},
   "outputs": [
    {
     "data": {
      "text/html": [
       "<div>\n",
       "<style scoped>\n",
       "    .dataframe tbody tr th:only-of-type {\n",
       "        vertical-align: middle;\n",
       "    }\n",
       "\n",
       "    .dataframe tbody tr th {\n",
       "        vertical-align: top;\n",
       "    }\n",
       "\n",
       "    .dataframe thead th {\n",
       "        text-align: right;\n",
       "    }\n",
       "</style>\n",
       "<table border=\"1\" class=\"dataframe\">\n",
       "  <thead>\n",
       "    <tr style=\"text-align: right;\">\n",
       "      <th></th>\n",
       "      <th>Company</th>\n",
       "      <th>Market Value ($billion)</th>\n",
       "      <th>Country</th>\n",
       "      <th>Continent</th>\n",
       "    </tr>\n",
       "  </thead>\n",
       "  <tbody>\n",
       "    <tr>\n",
       "      <th>15</th>\n",
       "      <td>Apple</td>\n",
       "      <td>416.6</td>\n",
       "      <td>USA</td>\n",
       "      <td>North America</td>\n",
       "    </tr>\n",
       "    <tr>\n",
       "      <th>4</th>\n",
       "      <td>Exxon Mobil</td>\n",
       "      <td>400.4</td>\n",
       "      <td>USA</td>\n",
       "      <td>North America</td>\n",
       "    </tr>\n",
       "    <tr>\n",
       "      <th>65</th>\n",
       "      <td>Google</td>\n",
       "      <td>268.4</td>\n",
       "      <td>USA</td>\n",
       "      <td>North America</td>\n",
       "    </tr>\n",
       "    <tr>\n",
       "      <th>8</th>\n",
       "      <td>PetroChina</td>\n",
       "      <td>261.2</td>\n",
       "      <td>China</td>\n",
       "      <td>Asia</td>\n",
       "    </tr>\n",
       "    <tr>\n",
       "      <th>9</th>\n",
       "      <td>Berkshire Hathaway</td>\n",
       "      <td>252.8</td>\n",
       "      <td>USA</td>\n",
       "      <td>North America</td>\n",
       "    </tr>\n",
       "    <tr>\n",
       "      <th>3</th>\n",
       "      <td>General Electric</td>\n",
       "      <td>243.7</td>\n",
       "      <td>USA</td>\n",
       "      <td>North America</td>\n",
       "    </tr>\n",
       "    <tr>\n",
       "      <th>14</th>\n",
       "      <td>Wal-Mart Stores</td>\n",
       "      <td>242.5</td>\n",
       "      <td>USA</td>\n",
       "      <td>North America</td>\n",
       "    </tr>\n",
       "    <tr>\n",
       "      <th>32</th>\n",
       "      <td>IBM</td>\n",
       "      <td>239.5</td>\n",
       "      <td>USA</td>\n",
       "      <td>North America</td>\n",
       "    </tr>\n",
       "    <tr>\n",
       "      <th>0</th>\n",
       "      <td>ICBC</td>\n",
       "      <td>237.3</td>\n",
       "      <td>China</td>\n",
       "      <td>Asia</td>\n",
       "    </tr>\n",
       "    <tr>\n",
       "      <th>39</th>\n",
       "      <td>Microsoft</td>\n",
       "      <td>234.8</td>\n",
       "      <td>USA</td>\n",
       "      <td>North America</td>\n",
       "    </tr>\n",
       "  </tbody>\n",
       "</table>\n",
       "</div>"
      ],
      "text/plain": [
       "               Company  Market Value ($billion) Country      Continent\n",
       "15               Apple                    416.6     USA  North America\n",
       "4          Exxon Mobil                    400.4     USA  North America\n",
       "65              Google                    268.4     USA  North America\n",
       "8           PetroChina                    261.2   China           Asia\n",
       "9   Berkshire Hathaway                    252.8     USA  North America\n",
       "3     General Electric                    243.7     USA  North America\n",
       "14     Wal-Mart Stores                    242.5     USA  North America\n",
       "32                 IBM                    239.5     USA  North America\n",
       "0                 ICBC                    237.3   China           Asia\n",
       "39           Microsoft                    234.8     USA  North America"
      ]
     },
     "execution_count": 11,
     "metadata": {},
     "output_type": "execute_result"
    }
   ],
   "source": [
    "data.sort_values(by=[\"Market Value ($billion)\"],inplace=True,ascending=False)\n",
    "data[[\"Company\",\"Market Value ($billion)\",\"Country\",\"Continent\"]].head(10)"
   ]
  },
  {
   "cell_type": "markdown",
   "id": "15df9234",
   "metadata": {},
   "source": [
    "Inferences:\n",
    "- Apple has the highest market value ($\\$416$ billions)\n",
    "- Out of the 10, 8 are based out of the USA and 2 are from China\n",
    "- PetroChina is has the highest market value for a non-USA based company\n",
    "- Difference in the market value of Apple and PetroChina is more that $\\$150$ billion\n",
    "- Apple and Exxon Mobil are the only two companies with market value more than $\\$400$ billion and the remaining companies fall below the $\\$300$ billion mark"
   ]
  },
  {
   "cell_type": "markdown",
   "id": "1e18fce8",
   "metadata": {},
   "source": [
    "#### Top 10 companies based on Sales ($billion)"
   ]
  },
  {
   "cell_type": "code",
   "execution_count": 12,
   "id": "8a425a2f",
   "metadata": {
    "scrolled": true
   },
   "outputs": [
    {
     "data": {
      "text/html": [
       "<div>\n",
       "<style scoped>\n",
       "    .dataframe tbody tr th:only-of-type {\n",
       "        vertical-align: middle;\n",
       "    }\n",
       "\n",
       "    .dataframe tbody tr th {\n",
       "        vertical-align: top;\n",
       "    }\n",
       "\n",
       "    .dataframe thead th {\n",
       "        text-align: right;\n",
       "    }\n",
       "</style>\n",
       "<table border=\"1\" class=\"dataframe\">\n",
       "  <thead>\n",
       "    <tr style=\"text-align: right;\">\n",
       "      <th></th>\n",
       "      <th>Company</th>\n",
       "      <th>Sales ($billion)</th>\n",
       "      <th>Country</th>\n",
       "      <th>Continent</th>\n",
       "    </tr>\n",
       "  </thead>\n",
       "  <tbody>\n",
       "    <tr>\n",
       "      <th>14</th>\n",
       "      <td>Wal-Mart Stores</td>\n",
       "      <td>469.2</td>\n",
       "      <td>USA</td>\n",
       "      <td>North America</td>\n",
       "    </tr>\n",
       "    <tr>\n",
       "      <th>6</th>\n",
       "      <td>Royal Dutch Shell</td>\n",
       "      <td>467.2</td>\n",
       "      <td>The Netherlands</td>\n",
       "      <td>Europe</td>\n",
       "    </tr>\n",
       "    <tr>\n",
       "      <th>4</th>\n",
       "      <td>Exxon Mobil</td>\n",
       "      <td>420.7</td>\n",
       "      <td>USA</td>\n",
       "      <td>North America</td>\n",
       "    </tr>\n",
       "    <tr>\n",
       "      <th>25</th>\n",
       "      <td>Sinopec-China Petroleum</td>\n",
       "      <td>411.7</td>\n",
       "      <td>China</td>\n",
       "      <td>Asia</td>\n",
       "    </tr>\n",
       "    <tr>\n",
       "      <th>17</th>\n",
       "      <td>BP</td>\n",
       "      <td>370.9</td>\n",
       "      <td>UK</td>\n",
       "      <td>Europe</td>\n",
       "    </tr>\n",
       "    <tr>\n",
       "      <th>8</th>\n",
       "      <td>PetroChina</td>\n",
       "      <td>308.9</td>\n",
       "      <td>China</td>\n",
       "      <td>Asia</td>\n",
       "    </tr>\n",
       "    <tr>\n",
       "      <th>13</th>\n",
       "      <td>Volkswagen Group</td>\n",
       "      <td>254.0</td>\n",
       "      <td>Germany</td>\n",
       "      <td>Europe</td>\n",
       "    </tr>\n",
       "    <tr>\n",
       "      <th>22</th>\n",
       "      <td>Total</td>\n",
       "      <td>240.5</td>\n",
       "      <td>France</td>\n",
       "      <td>Europe</td>\n",
       "    </tr>\n",
       "    <tr>\n",
       "      <th>30</th>\n",
       "      <td>Toyota Motor</td>\n",
       "      <td>224.5</td>\n",
       "      <td>Japan</td>\n",
       "      <td>Asia</td>\n",
       "    </tr>\n",
       "    <tr>\n",
       "      <th>12</th>\n",
       "      <td>Chevron</td>\n",
       "      <td>222.6</td>\n",
       "      <td>USA</td>\n",
       "      <td>North America</td>\n",
       "    </tr>\n",
       "  </tbody>\n",
       "</table>\n",
       "</div>"
      ],
      "text/plain": [
       "                    Company  Sales ($billion)          Country      Continent\n",
       "14          Wal-Mart Stores             469.2              USA  North America\n",
       "6         Royal Dutch Shell             467.2  The Netherlands         Europe\n",
       "4               Exxon Mobil             420.7              USA  North America\n",
       "25  Sinopec-China Petroleum             411.7            China           Asia\n",
       "17                       BP             370.9               UK         Europe\n",
       "8                PetroChina             308.9            China           Asia\n",
       "13         Volkswagen Group             254.0          Germany         Europe\n",
       "22                    Total             240.5           France         Europe\n",
       "30             Toyota Motor             224.5            Japan           Asia\n",
       "12                  Chevron             222.6              USA  North America"
      ]
     },
     "execution_count": 12,
     "metadata": {},
     "output_type": "execute_result"
    }
   ],
   "source": [
    "data.sort_values(by=[\"Sales ($billion)\"],inplace=True,ascending=False)\n",
    "data[[\"Company\",\"Sales ($billion)\",\"Country\",\"Continent\"]].head(10)"
   ]
  },
  {
   "cell_type": "markdown",
   "id": "4f72b72d",
   "metadata": {},
   "source": [
    "Inferences:\n",
    "- The company with the highest sales (Walmart Stores) is again from the USA\n",
    "- Among the top 10, three are headquartered in the USA, two originate from China, and the remaining five, hailing from The Netherlands, UK, Germany, France, and Japan, each have one representation in the list.\n",
    "- Only Exxon Mobil from the USA is in both the lists of Top 10 based on Market Value and Sales\n",
    "- Among the companies, 4 generate sales surpassing $\\$400$ billion, 2 companies record sales within the range of $\\$300$ to $\\$400$ billion, and the remaining 4 companies achieve sales in the range of $\\$200$ to $\\$300$ billion."
   ]
  },
  {
   "cell_type": "markdown",
   "id": "dbd454b5",
   "metadata": {},
   "source": [
    "#### Top 10 companies based on Profits ($billion)"
   ]
  },
  {
   "cell_type": "code",
   "execution_count": 13,
   "id": "c8246635",
   "metadata": {},
   "outputs": [
    {
     "data": {
      "text/html": [
       "<div>\n",
       "<style scoped>\n",
       "    .dataframe tbody tr th:only-of-type {\n",
       "        vertical-align: middle;\n",
       "    }\n",
       "\n",
       "    .dataframe tbody tr th {\n",
       "        vertical-align: top;\n",
       "    }\n",
       "\n",
       "    .dataframe thead th {\n",
       "        text-align: right;\n",
       "    }\n",
       "</style>\n",
       "<table border=\"1\" class=\"dataframe\">\n",
       "  <thead>\n",
       "    <tr style=\"text-align: right;\">\n",
       "      <th></th>\n",
       "      <th>Company</th>\n",
       "      <th>Profits ($billion)</th>\n",
       "      <th>Country</th>\n",
       "      <th>Continent</th>\n",
       "    </tr>\n",
       "  </thead>\n",
       "  <tbody>\n",
       "    <tr>\n",
       "      <th>4</th>\n",
       "      <td>Exxon Mobil</td>\n",
       "      <td>44.9</td>\n",
       "      <td>USA</td>\n",
       "      <td>North America</td>\n",
       "    </tr>\n",
       "    <tr>\n",
       "      <th>15</th>\n",
       "      <td>Apple</td>\n",
       "      <td>41.7</td>\n",
       "      <td>USA</td>\n",
       "      <td>North America</td>\n",
       "    </tr>\n",
       "    <tr>\n",
       "      <th>16</th>\n",
       "      <td>Gazprom</td>\n",
       "      <td>40.6</td>\n",
       "      <td>Russia</td>\n",
       "      <td>Europe</td>\n",
       "    </tr>\n",
       "    <tr>\n",
       "      <th>0</th>\n",
       "      <td>ICBC</td>\n",
       "      <td>37.8</td>\n",
       "      <td>China</td>\n",
       "      <td>Asia</td>\n",
       "    </tr>\n",
       "    <tr>\n",
       "      <th>1</th>\n",
       "      <td>China Construction Bank</td>\n",
       "      <td>30.6</td>\n",
       "      <td>China</td>\n",
       "      <td>Asia</td>\n",
       "    </tr>\n",
       "    <tr>\n",
       "      <th>13</th>\n",
       "      <td>Volkswagen Group</td>\n",
       "      <td>28.6</td>\n",
       "      <td>Germany</td>\n",
       "      <td>Europe</td>\n",
       "    </tr>\n",
       "    <tr>\n",
       "      <th>6</th>\n",
       "      <td>Royal Dutch Shell</td>\n",
       "      <td>26.6</td>\n",
       "      <td>The Netherlands</td>\n",
       "      <td>Europe</td>\n",
       "    </tr>\n",
       "    <tr>\n",
       "      <th>12</th>\n",
       "      <td>Chevron</td>\n",
       "      <td>26.2</td>\n",
       "      <td>USA</td>\n",
       "      <td>North America</td>\n",
       "    </tr>\n",
       "    <tr>\n",
       "      <th>7</th>\n",
       "      <td>Agricultural Bank of China</td>\n",
       "      <td>23.0</td>\n",
       "      <td>China</td>\n",
       "      <td>Asia</td>\n",
       "    </tr>\n",
       "    <tr>\n",
       "      <th>10</th>\n",
       "      <td>Bank of China</td>\n",
       "      <td>22.1</td>\n",
       "      <td>China</td>\n",
       "      <td>Asia</td>\n",
       "    </tr>\n",
       "  </tbody>\n",
       "</table>\n",
       "</div>"
      ],
      "text/plain": [
       "                       Company  Profits ($billion)          Country  \\\n",
       "4                  Exxon Mobil                44.9              USA   \n",
       "15                       Apple                41.7              USA   \n",
       "16                     Gazprom                40.6           Russia   \n",
       "0                         ICBC                37.8            China   \n",
       "1      China Construction Bank                30.6            China   \n",
       "13            Volkswagen Group                28.6          Germany   \n",
       "6            Royal Dutch Shell                26.6  The Netherlands   \n",
       "12                     Chevron                26.2              USA   \n",
       "7   Agricultural Bank of China                23.0            China   \n",
       "10               Bank of China                22.1            China   \n",
       "\n",
       "        Continent  \n",
       "4   North America  \n",
       "15  North America  \n",
       "16         Europe  \n",
       "0            Asia  \n",
       "1            Asia  \n",
       "13         Europe  \n",
       "6          Europe  \n",
       "12  North America  \n",
       "7            Asia  \n",
       "10           Asia  "
      ]
     },
     "execution_count": 13,
     "metadata": {},
     "output_type": "execute_result"
    }
   ],
   "source": [
    "data.sort_values(by=[\"Profits ($billion)\"],inplace=True,ascending=False)\n",
    "data[[\"Company\",\"Profits ($billion)\",\"Country\",\"Continent\"]].head(10)"
   ]
  },
  {
   "cell_type": "markdown",
   "id": "0e94d399",
   "metadata": {},
   "source": [
    "Inferences:\n",
    "- Exxon Mobil from the USA is on top of the list with approximately $\\$45$ billion in profit\n",
    "- In the list of the top 10, there are three companies based in the USA, four that have their origins in China, and the remaining three, which come from The Netherlands, Germany, and Russia, each have one spot on the list.\n",
    "- Among the companies, 3 generate sales surpassing $\\$40$ billion, 2 companies record sales within the range of $\\$30$ to $\\$40$ billion, and the remaining 5 companies achieve sales in the range of $\\$20$ to $\\$30$ billion."
   ]
  },
  {
   "cell_type": "markdown",
   "id": "c818be18",
   "metadata": {},
   "source": [
    "#### Top 10 companies based on Assets ($billion)"
   ]
  },
  {
   "cell_type": "code",
   "execution_count": 14,
   "id": "df79c811",
   "metadata": {
    "scrolled": true
   },
   "outputs": [
    {
     "data": {
      "text/html": [
       "<div>\n",
       "<style scoped>\n",
       "    .dataframe tbody tr th:only-of-type {\n",
       "        vertical-align: middle;\n",
       "    }\n",
       "\n",
       "    .dataframe tbody tr th {\n",
       "        vertical-align: top;\n",
       "    }\n",
       "\n",
       "    .dataframe thead th {\n",
       "        text-align: right;\n",
       "    }\n",
       "</style>\n",
       "<table border=\"1\" class=\"dataframe\">\n",
       "  <thead>\n",
       "    <tr style=\"text-align: right;\">\n",
       "      <th></th>\n",
       "      <th>Company</th>\n",
       "      <th>Assets ($billion)</th>\n",
       "      <th>Country</th>\n",
       "      <th>Continent</th>\n",
       "    </tr>\n",
       "  </thead>\n",
       "  <tbody>\n",
       "    <tr>\n",
       "      <th>349</th>\n",
       "      <td>Fannie Mae</td>\n",
       "      <td>3226.2</td>\n",
       "      <td>USA</td>\n",
       "      <td>North America</td>\n",
       "    </tr>\n",
       "    <tr>\n",
       "      <th>0</th>\n",
       "      <td>ICBC</td>\n",
       "      <td>2813.5</td>\n",
       "      <td>China</td>\n",
       "      <td>Asia</td>\n",
       "    </tr>\n",
       "    <tr>\n",
       "      <th>5</th>\n",
       "      <td>HSBC Holdings</td>\n",
       "      <td>2684.1</td>\n",
       "      <td>UK</td>\n",
       "      <td>Europe</td>\n",
       "    </tr>\n",
       "    <tr>\n",
       "      <th>26</th>\n",
       "      <td>Mitsubishi UFJ Financial</td>\n",
       "      <td>2653.1</td>\n",
       "      <td>Japan</td>\n",
       "      <td>Asia</td>\n",
       "    </tr>\n",
       "    <tr>\n",
       "      <th>290</th>\n",
       "      <td>Deutsche Bank</td>\n",
       "      <td>2652.6</td>\n",
       "      <td>Germany</td>\n",
       "      <td>Europe</td>\n",
       "    </tr>\n",
       "    <tr>\n",
       "      <th>21</th>\n",
       "      <td>BNP Paribas</td>\n",
       "      <td>2504.2</td>\n",
       "      <td>France</td>\n",
       "      <td>Europe</td>\n",
       "    </tr>\n",
       "    <tr>\n",
       "      <th>440</th>\n",
       "      <td>Crédit Agricole</td>\n",
       "      <td>2431.4</td>\n",
       "      <td>France</td>\n",
       "      <td>Europe</td>\n",
       "    </tr>\n",
       "    <tr>\n",
       "      <th>384</th>\n",
       "      <td>Barclays</td>\n",
       "      <td>2422.5</td>\n",
       "      <td>UK</td>\n",
       "      <td>Europe</td>\n",
       "    </tr>\n",
       "    <tr>\n",
       "      <th>2</th>\n",
       "      <td>JPMorgan Chase</td>\n",
       "      <td>2359.1</td>\n",
       "      <td>USA</td>\n",
       "      <td>North America</td>\n",
       "    </tr>\n",
       "    <tr>\n",
       "      <th>1</th>\n",
       "      <td>China Construction Bank</td>\n",
       "      <td>2241.0</td>\n",
       "      <td>China</td>\n",
       "      <td>Asia</td>\n",
       "    </tr>\n",
       "  </tbody>\n",
       "</table>\n",
       "</div>"
      ],
      "text/plain": [
       "                      Company  Assets ($billion)  Country      Continent\n",
       "349                Fannie Mae             3226.2      USA  North America\n",
       "0                        ICBC             2813.5    China           Asia\n",
       "5               HSBC Holdings             2684.1       UK         Europe\n",
       "26   Mitsubishi UFJ Financial             2653.1    Japan           Asia\n",
       "290             Deutsche Bank             2652.6  Germany         Europe\n",
       "21                BNP Paribas             2504.2   France         Europe\n",
       "440           Crédit Agricole             2431.4   France         Europe\n",
       "384                  Barclays             2422.5       UK         Europe\n",
       "2              JPMorgan Chase             2359.1      USA  North America\n",
       "1     China Construction Bank             2241.0    China           Asia"
      ]
     },
     "execution_count": 14,
     "metadata": {},
     "output_type": "execute_result"
    }
   ],
   "source": [
    "data.sort_values(by=[\"Assets ($billion)\"],inplace=True,ascending=False)\n",
    "data[[\"Company\",\"Assets ($billion)\",\"Country\",\"Continent\"]].head(10)"
   ]
  },
  {
   "cell_type": "markdown",
   "id": "57548cc8",
   "metadata": {},
   "source": [
    "- Fannie Mae from the USA is on top of the list with $\\$3226$ billions in assets\n",
    "- In the list of the top 10, there are two companies based in the USA, two that have their origins in China, two are from France, two from UK and the remaining two, which come from Japan, and Germany each have one spot on the list.\n",
    "- Only Fannie Mae surpass the $\\$3000$ billion mark while the subsequent company on the list, China's ICBC, possesses assets $\\$200$ billion lower."
   ]
  },
  {
   "cell_type": "markdown",
   "id": "a573243e",
   "metadata": {},
   "source": [
    "#### Analysis of Market Value"
   ]
  },
  {
   "cell_type": "code",
   "execution_count": 71,
   "id": "267b1ca8",
   "metadata": {},
   "outputs": [
    {
     "data": {
      "text/plain": [
       "<AxesSubplot:xlabel='Market Value ($billion)', ylabel='Count'>"
      ]
     },
     "execution_count": 71,
     "metadata": {},
     "output_type": "execute_result"
    },
    {
     "data": {
      "image/png": "[encoded data removed]",
      "text/plain": [
       "<Figure size 504x504 with 1 Axes>"
      ]
     },
     "metadata": {
      "needs_background": "light"
     },
     "output_type": "display_data"
    }
   ],
   "source": [
    "fig, ax = plt.subplots(figsize=(7, 7))\n",
    "sns.histplot(data=data,x=\"Market Value ($billion)\",bins=44,binwidth=10)"
   ]
  },
  {
   "cell_type": "code",
   "execution_count": 75,
   "id": "b2be0258",
   "metadata": {},
   "outputs": [
    {
     "data": {
      "text/plain": [
       "count    1924.000000\n",
       "mean       19.558160\n",
       "std        32.957023\n",
       "min         0.000000\n",
       "25%         5.300000\n",
       "50%         9.600000\n",
       "75%        19.200000\n",
       "max       416.600000\n",
       "Name: Market Value ($billion), dtype: float64"
      ]
     },
     "execution_count": 75,
     "metadata": {},
     "output_type": "execute_result"
    }
   ],
   "source": [
    "data[\"Market Value ($billion)\"].describe()"
   ]
  },
  {
   "cell_type": "code",
   "execution_count": 83,
   "id": "c924f4ca",
   "metadata": {
    "scrolled": true
   },
   "outputs": [
    {
     "data": {
      "text/plain": [
       "<AxesSubplot:xlabel='Market Value ($billion)', ylabel='Continent'>"
      ]
     },
     "execution_count": 83,
     "metadata": {},
     "output_type": "execute_result"
    },
    {
     "data": {
      "image/png": "[encoded data removed]",
      "text/plain": [
       "<Figure size 432x288 with 1 Axes>"
      ]
     },
     "metadata": {
      "needs_background": "light"
     },
     "output_type": "display_data"
    }
   ],
   "source": [
    "sns.scatterplot(data=data,y=\"Continent\",x=\"Market Value ($billion)\")"
   ]
  },
  {
   "cell_type": "markdown",
   "id": "3e62cf21",
   "metadata": {},
   "source": [
    "Inferences:\n",
    "- Mean value for market value is $\\$19$ billions and median is $\\$9.6$ billions\n",
    "- Majority of the companies in the list have market value less than $\\$100$ billions \n",
    "- Spread of market value in North America is high compared others and spread for African companies is the smallest"
   ]
  },
  {
   "cell_type": "markdown",
   "id": "63e11e13",
   "metadata": {},
   "source": [
    "#### Analysis of Sales"
   ]
  },
  {
   "cell_type": "code",
   "execution_count": 72,
   "id": "007f5f06",
   "metadata": {
    "scrolled": false
   },
   "outputs": [
    {
     "data": {
      "text/plain": [
       "<AxesSubplot:xlabel='Sales ($billion)', ylabel='Count'>"
      ]
     },
     "execution_count": 72,
     "metadata": {},
     "output_type": "execute_result"
    },
    {
     "data": {
      "image/png": "[encoded data removed]",
      "text/plain": [
       "<Figure size 504x504 with 1 Axes>"
      ]
     },
     "metadata": {
      "needs_background": "light"
     },
     "output_type": "display_data"
    }
   ],
   "source": [
    "fig, ax = plt.subplots(figsize=(7, 7))\n",
    "sns.histplot(data=data,x=\"Sales ($billion)\",bins=44,binwidth=5)"
   ]
  },
  {
   "cell_type": "code",
   "execution_count": 87,
   "id": "e7cdb26c",
   "metadata": {},
   "outputs": [
    {
     "data": {
      "text/plain": [
       "<AxesSubplot:xlabel='Sales ($billion)', ylabel='Continent'>"
      ]
     },
     "execution_count": 87,
     "metadata": {},
     "output_type": "execute_result"
    },
    {
     "data": {
      "image/png": "[encoded data removed]",
      "text/plain": [
       "<Figure size 432x288 with 1 Axes>"
      ]
     },
     "metadata": {
      "needs_background": "light"
     },
     "output_type": "display_data"
    }
   ],
   "source": [
    "sns.scatterplot(data=data,y=\"Continent\",x=\"Sales ($billion)\")"
   ]
  },
  {
   "cell_type": "code",
   "execution_count": 77,
   "id": "cb0f2693",
   "metadata": {},
   "outputs": [
    {
     "data": {
      "text/plain": [
       "count    1924.000000\n",
       "mean       19.265904\n",
       "std        34.683911\n",
       "min         0.000000\n",
       "25%         4.100000\n",
       "50%         9.000000\n",
       "75%        18.425000\n",
       "max       469.200000\n",
       "Name: Sales ($billion), dtype: float64"
      ]
     },
     "execution_count": 77,
     "metadata": {},
     "output_type": "execute_result"
    }
   ],
   "source": [
    "data[\"Sales ($billion)\"].describe()"
   ]
  },
  {
   "cell_type": "markdown",
   "id": "d4f1fffb",
   "metadata": {},
   "source": [
    "Inferences:\n",
    "- Mean value for sales is $\\$19$ billions and median is $\\$9$ billions\n",
    "- Majority of the companies have sales less than $\\$100$ billions\n",
    "- Spread for the North American, Asian and European is high compared to the rest three "
   ]
  },
  {
   "cell_type": "markdown",
   "id": "3147b998",
   "metadata": {},
   "source": [
    "#### Analysis of Profits"
   ]
  },
  {
   "cell_type": "code",
   "execution_count": 73,
   "id": "e068c79e",
   "metadata": {
    "scrolled": false
   },
   "outputs": [
    {
     "data": {
      "text/plain": [
       "<AxesSubplot:xlabel='Profits ($billion)', ylabel='Count'>"
      ]
     },
     "execution_count": 73,
     "metadata": {},
     "output_type": "execute_result"
    },
    {
     "data": {
      "image/png": "[encoded data removed]",
      "text/plain": [
       "<Figure size 504x504 with 1 Axes>"
      ]
     },
     "metadata": {
      "needs_background": "light"
     },
     "output_type": "display_data"
    }
   ],
   "source": [
    "fig, ax = plt.subplots(figsize=(7, 7))\n",
    "sns.histplot(data=data,x=\"Profits ($billion)\",bins=44,binwidth=2)"
   ]
  },
  {
   "cell_type": "code",
   "execution_count": 78,
   "id": "4e0c1f40",
   "metadata": {},
   "outputs": [
    {
     "data": {
      "text/plain": [
       "count    1924.000000\n",
       "mean        1.226040\n",
       "std         3.413831\n",
       "min       -24.500000\n",
       "25%         0.300000\n",
       "50%         0.600000\n",
       "75%         1.200000\n",
       "max        44.900000\n",
       "Name: Profits ($billion), dtype: float64"
      ]
     },
     "execution_count": 78,
     "metadata": {},
     "output_type": "execute_result"
    }
   ],
   "source": [
    "data[\"Profits ($billion)\"].describe()"
   ]
  },
  {
   "cell_type": "code",
   "execution_count": 88,
   "id": "d41333eb",
   "metadata": {},
   "outputs": [
    {
     "data": {
      "text/plain": [
       "<AxesSubplot:xlabel='Profits ($billion)', ylabel='Continent'>"
      ]
     },
     "execution_count": 88,
     "metadata": {},
     "output_type": "execute_result"
    },
    {
     "data": {
      "image/png": "[encoded data removed]",
      "text/plain": [
       "<Figure size 432x288 with 1 Axes>"
      ]
     },
     "metadata": {
      "needs_background": "light"
     },
     "output_type": "display_data"
    }
   ],
   "source": [
    "sns.scatterplot(data=data,y=\"Continent\",x=\"Profits ($billion)\")"
   ]
  },
  {
   "cell_type": "markdown",
   "id": "0e0bb210",
   "metadata": {},
   "source": [
    "Inferences:\n",
    "- Mean value for profits is $\\$1$ billion and median is $\\$0.6$ billion\n",
    "- Majority of the companies have profits less than $\\$10$ billions\n",
    "- Spread for the North American, Asian and European is high compared to the rest three "
   ]
  },
  {
   "cell_type": "markdown",
   "id": "5e5ccd0c",
   "metadata": {},
   "source": [
    "#### Analysis of Assets"
   ]
  },
  {
   "cell_type": "code",
   "execution_count": 74,
   "id": "1045ce15",
   "metadata": {},
   "outputs": [
    {
     "data": {
      "text/plain": [
       "<AxesSubplot:xlabel='Assets ($billion)', ylabel='Count'>"
      ]
     },
     "execution_count": 74,
     "metadata": {},
     "output_type": "execute_result"
    },
    {
     "data": {
      "image/png": "[encoded data removed]",
      "text/plain": [
       "<Figure size 504x504 with 1 Axes>"
      ]
     },
     "metadata": {
      "needs_background": "light"
     },
     "output_type": "display_data"
    }
   ],
   "source": [
    "fig, ax = plt.subplots(figsize=(7, 7))\n",
    "sns.histplot(data=data,x=\"Assets ($billion)\",bins=44,binwidth=72)"
   ]
  },
  {
   "cell_type": "code",
   "execution_count": 79,
   "id": "e0ecd8ee",
   "metadata": {
    "scrolled": true
   },
   "outputs": [
    {
     "data": {
      "text/plain": [
       "count    1924.000000\n",
       "mean       79.507796\n",
       "std       261.098775\n",
       "min         1.000000\n",
       "25%         9.675000\n",
       "50%        19.250000\n",
       "75%        45.800000\n",
       "max      3226.200000\n",
       "Name: Assets ($billion), dtype: float64"
      ]
     },
     "execution_count": 79,
     "metadata": {},
     "output_type": "execute_result"
    }
   ],
   "source": [
    "data[\"Assets ($billion)\"].describe()"
   ]
  },
  {
   "cell_type": "code",
   "execution_count": 89,
   "id": "f1ece926",
   "metadata": {},
   "outputs": [
    {
     "data": {
      "text/plain": [
       "<AxesSubplot:xlabel='Assets ($billion)', ylabel='Continent'>"
      ]
     },
     "execution_count": 89,
     "metadata": {},
     "output_type": "execute_result"
    },
    {
     "data": {
      "image/png": "[encoded data removed]",
      "text/plain": [
       "<Figure size 432x288 with 1 Axes>"
      ]
     },
     "metadata": {
      "needs_background": "light"
     },
     "output_type": "display_data"
    }
   ],
   "source": [
    "sns.scatterplot(data=data,y=\"Continent\",x=\"Assets ($billion)\")"
   ]
  },
  {
   "cell_type": "markdown",
   "id": "d8f4b382",
   "metadata": {},
   "source": [
    "Inferences:\n",
    "- Mean value for assets is $\\$79$ billions and median is $\\$19$ billions\n",
    "- Majority of the companies have assets less than $\\$500$ billions\n",
    "- Spread for the North American, Asian and European is high compared to the rest three "
   ]
  },
  {
   "cell_type": "markdown",
   "id": "a03afa74",
   "metadata": {},
   "source": [
    "#### Correlation matrix for Sales, Profits, Assets and Market Value"
   ]
  },
  {
   "cell_type": "code",
   "execution_count": 84,
   "id": "03c2dcf1",
   "metadata": {},
   "outputs": [
    {
     "data": {
      "text/html": [
       "<div>\n",
       "<style scoped>\n",
       "    .dataframe tbody tr th:only-of-type {\n",
       "        vertical-align: middle;\n",
       "    }\n",
       "\n",
       "    .dataframe tbody tr th {\n",
       "        vertical-align: top;\n",
       "    }\n",
       "\n",
       "    .dataframe thead th {\n",
       "        text-align: right;\n",
       "    }\n",
       "</style>\n",
       "<table border=\"1\" class=\"dataframe\">\n",
       "  <thead>\n",
       "    <tr style=\"text-align: right;\">\n",
       "      <th></th>\n",
       "      <th>Sales ($billion)</th>\n",
       "      <th>Profits ($billion)</th>\n",
       "      <th>Assets ($billion)</th>\n",
       "      <th>Market Value ($billion)</th>\n",
       "    </tr>\n",
       "  </thead>\n",
       "  <tbody>\n",
       "    <tr>\n",
       "      <th>Sales ($billion)</th>\n",
       "      <td>1.000000</td>\n",
       "      <td>0.594174</td>\n",
       "      <td>0.356069</td>\n",
       "      <td>0.649493</td>\n",
       "    </tr>\n",
       "    <tr>\n",
       "      <th>Profits ($billion)</th>\n",
       "      <td>0.594174</td>\n",
       "      <td>1.000000</td>\n",
       "      <td>0.356553</td>\n",
       "      <td>0.788853</td>\n",
       "    </tr>\n",
       "    <tr>\n",
       "      <th>Assets ($billion)</th>\n",
       "      <td>0.356069</td>\n",
       "      <td>0.356553</td>\n",
       "      <td>1.000000</td>\n",
       "      <td>0.375544</td>\n",
       "    </tr>\n",
       "    <tr>\n",
       "      <th>Market Value ($billion)</th>\n",
       "      <td>0.649493</td>\n",
       "      <td>0.788853</td>\n",
       "      <td>0.375544</td>\n",
       "      <td>1.000000</td>\n",
       "    </tr>\n",
       "  </tbody>\n",
       "</table>\n",
       "</div>"
      ],
      "text/plain": [
       "                         Sales ($billion)  Profits ($billion)  \\\n",
       "Sales ($billion)                 1.000000            0.594174   \n",
       "Profits ($billion)               0.594174            1.000000   \n",
       "Assets ($billion)                0.356069            0.356553   \n",
       "Market Value ($billion)          0.649493            0.788853   \n",
       "\n",
       "                         Assets ($billion)  Market Value ($billion)  \n",
       "Sales ($billion)                  0.356069                 0.649493  \n",
       "Profits ($billion)                0.356553                 0.788853  \n",
       "Assets ($billion)                 1.000000                 0.375544  \n",
       "Market Value ($billion)           0.375544                 1.000000  "
      ]
     },
     "execution_count": 84,
     "metadata": {},
     "output_type": "execute_result"
    }
   ],
   "source": [
    "data.corr()"
   ]
  },
  {
   "cell_type": "markdown",
   "id": "4b24179f",
   "metadata": {},
   "source": [
    "Inferences:\n",
    "- High positive correlation is observed in Profits vs Market Value (0.79) and Sales vs Market Value (0.65) "
   ]
  }
 ],
 "metadata": {
  "kernelspec": {
   "display_name": "Python 3 (ipykernel)",
   "language": "python",
   "name": "python3"
  },
  "language_info": {
   "codemirror_mode": {
    "name": "ipython",
    "version": 3
   },
   "file_extension": ".py",
   "mimetype": "text/x-python",
   "name": "python",
   "nbconvert_exporter": "python",
   "pygments_lexer": "ipython3",
   "version": "3.9.7"
  }
 },
 "nbformat": 4,
 "nbformat_minor": 5
}
